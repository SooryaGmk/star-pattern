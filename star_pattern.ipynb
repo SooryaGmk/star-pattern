{
  "nbformat": 4,
  "nbformat_minor": 0,
  "metadata": {
    "colab": {
      "provenance": [],
      "authorship_tag": "ABX9TyNJmMHLG/GnMTMSn81hyz5E",
      "include_colab_link": true
    },
    "kernelspec": {
      "name": "python3",
      "display_name": "Python 3"
    },
    "language_info": {
      "name": "python"
    }
  },
  "cells": [
    {
      "cell_type": "markdown",
      "metadata": {
        "id": "view-in-github",
        "colab_type": "text"
      },
      "source": [
        "<a href=\"https://colab.research.google.com/github/SooryaGmk/star-pattern/blob/main/star_pattern.ipynb\" target=\"_parent\"><img src=\"https://colab.research.google.com/assets/colab-badge.svg\" alt=\"Open In Colab\"/></a>"
      ]
    },
    {
      "cell_type": "code",
      "execution_count": null,
      "metadata": {
        "colab": {
          "base_uri": "https://localhost:8080/"
        },
        "id": "k26-9chac-Qe",
        "outputId": "172d6bef-ef04-41eb-ec25-88ecf48620d4"
      },
      "outputs": [
        {
          "output_type": "stream",
          "name": "stdout",
          "text": [
            "enter the number of rows:5\n",
            "        *         \n",
            "      *   *       \n",
            "    *       *     \n",
            "  *           *   \n",
            "* * * * * * * * * \n"
          ]
        }
      ],
      "source": [
        "#hollow pyramid\n",
        "\n",
        "r=int(input('enter the number of rows:'))\n",
        "for i in range(1,r+1):\n",
        "  for j in range(1,2*r):\n",
        "    if i==r or i+j==r+1 or j-i==r-1:\n",
        "      print(\"*\",end=' ')\n",
        "    else:\n",
        "        print(\" \",end=' ')\n",
        "  print()\n"
      ]
    },
    {
      "cell_type": "code",
      "source": [
        "r=int(input('enter the number of rows:'))\n",
        "for i in range(1,r+1):\n",
        "  for j in range(1,2*r):\n",
        "    if i==r and j%2==0 or i+j==r+1 or j-i==r-1:\n",
        "      print(\"*\",end=' ')\n",
        "    else:\n",
        "        print(\" \",end=' ')\n",
        "  print()\n"
      ],
      "metadata": {
        "colab": {
          "base_uri": "https://localhost:8080/"
        },
        "id": "1rBscT5VKVO_",
        "outputId": "9ae4144f-0d72-4417-8e5e-eb73e7697a80"
      },
      "execution_count": null,
      "outputs": [
        {
          "output_type": "stream",
          "name": "stdout",
          "text": [
            "enter the number of rows:5\n",
            "        *         \n",
            "      *   *       \n",
            "    *       *     \n",
            "  *           *   \n",
            "* *   *   *   * * \n"
          ]
        }
      ]
    },
    {
      "cell_type": "code",
      "source": [
        "#butterfly pattern\n",
        "\n",
        "r=int(input(\"enter the number of rows:\"))\n",
        "for i in range(1,r+1):\n",
        "  print(\"*\"*i,end='')\n",
        "  print(\" \"*(r-i)*2,end='')\n",
        "  print(\"*\"*i)\n",
        "for i in range(r,0,-1):\n",
        "  print(\"*\"*i,end='')\n",
        "  print(\" \"*(r-i)*2,end='')\n",
        "  print(\"*\"*i)"
      ],
      "metadata": {
        "colab": {
          "base_uri": "https://localhost:8080/"
        },
        "id": "7ExjHR-1j--4",
        "outputId": "f664fd61-ca7c-49de-b640-e3b6fa415929"
      },
      "execution_count": null,
      "outputs": [
        {
          "output_type": "stream",
          "name": "stdout",
          "text": [
            "enter the number of rows:5\n",
            "*        *\n",
            "**      **\n",
            "***    ***\n",
            "****  ****\n",
            "**********\n",
            "**********\n",
            "****  ****\n",
            "***    ***\n",
            "**      **\n",
            "*        *\n"
          ]
        }
      ]
    },
    {
      "cell_type": "code",
      "source": [
        "# right angle triangle\n",
        "\n",
        "n=int(input(\"enter a number:\"))\n",
        "for i in range(1,n+1):\n",
        "  for j in range(1,i+1):\n",
        "    print(\"*\",end=\"\")\n",
        "  print()\n"
      ],
      "metadata": {
        "id": "maVyI8k2iuGS",
        "colab": {
          "base_uri": "https://localhost:8080/"
        },
        "outputId": "c6db73f0-3f6c-4a1f-da1f-8b970ad5729d"
      },
      "execution_count": null,
      "outputs": [
        {
          "output_type": "stream",
          "name": "stdout",
          "text": [
            "enter a number:6\n",
            "*\n",
            "**\n",
            "***\n",
            "****\n",
            "*****\n",
            "******\n"
          ]
        }
      ]
    },
    {
      "cell_type": "code",
      "source": [
        "# inverted hollow triangle\n",
        "\n",
        "r=int(input(\"enter the number of rows:\"))\n",
        "for i in range(1,r+1):\n",
        "  for j in range(1,2*r):\n",
        "    if (i==1 and j%2!=0) or i==j or i+j==r*2:\n",
        "      print(\"*\",end=' ')\n",
        "    else:\n",
        "      print(\" \",end=' ')\n",
        "  print()"
      ],
      "metadata": {
        "colab": {
          "base_uri": "https://localhost:8080/"
        },
        "id": "Ib-7bGxArOVy",
        "outputId": "f11c035f-df4a-443e-d6c0-4c1be8de9636"
      },
      "execution_count": null,
      "outputs": [
        {
          "output_type": "stream",
          "name": "stdout",
          "text": [
            "enter the number of rows:6\n",
            "*   *   *   *   *   * \n",
            "  *               *   \n",
            "    *           *     \n",
            "      *       *       \n",
            "        *   *         \n",
            "          *           \n"
          ]
        }
      ]
    },
    {
      "cell_type": "code",
      "source": [
        "# pyramid pattern\n",
        "\n",
        "r=int(input(\"enter the number of rows:\"))\n",
        "k=r-1\n",
        "z=1\n",
        "for i in range(1,r+1):\n",
        "  print(' '*k,'* '*z,end=' ')\n",
        "  k=k-1\n",
        "  z=z+1\n",
        "  print()\n"
      ],
      "metadata": {
        "colab": {
          "base_uri": "https://localhost:8080/"
        },
        "id": "p2ymqxy1wU8p",
        "outputId": "df6d813c-41c3-4f3d-8d35-a404f4dca8bd"
      },
      "execution_count": null,
      "outputs": [
        {
          "output_type": "stream",
          "name": "stdout",
          "text": [
            "enter the number of rows:6\n",
            "      *  \n",
            "     * *  \n",
            "    * * *  \n",
            "   * * * *  \n",
            "  * * * * *  \n",
            " * * * * * *  \n"
          ]
        }
      ]
    },
    {
      "cell_type": "code",
      "source": [
        "# inverted pyramid\n",
        "\n",
        "r=int(input(\"enter the number of rows:\"))\n",
        "k=0\n",
        "z=r\n",
        "for i in range(1,r+1):\n",
        "  print(' '*k,'* '*z,end=' ')\n",
        "  k=k+1\n",
        "  z=z-1\n",
        "  print()"
      ],
      "metadata": {
        "colab": {
          "base_uri": "https://localhost:8080/"
        },
        "id": "-YXoAC2mt7-7",
        "outputId": "f1833acb-a81a-4fe5-883b-cad0e5e3f603"
      },
      "execution_count": null,
      "outputs": [
        {
          "output_type": "stream",
          "name": "stdout",
          "text": [
            "enter the number of rows:6\n",
            " * * * * * *  \n",
            "  * * * * *  \n",
            "   * * * *  \n",
            "    * * *  \n",
            "     * *  \n",
            "      *  \n"
          ]
        }
      ]
    },
    {
      "cell_type": "code",
      "source": [
        "# hollow square\n",
        "\n",
        "r=int(input(\"enter the number of rows:\"))\n",
        "c=int(input(\"enter the number of columns:\"))\n",
        "for i in range(1,r+1):\n",
        "  for j in range(1,c+1):\n",
        "    if i==1 or i==r or j==1 or j==c:\n",
        "      print(\"*\",end=\" \")\n",
        "    else:\n",
        "      print(\" \",end=\" \")\n",
        "  print()\n"
      ],
      "metadata": {
        "colab": {
          "base_uri": "https://localhost:8080/"
        },
        "id": "AXS8Z7t_wt54",
        "outputId": "7f560171-83b5-4198-80c2-7f63f5393c0e"
      },
      "execution_count": null,
      "outputs": [
        {
          "output_type": "stream",
          "name": "stdout",
          "text": [
            "enter the number of rows:6\n",
            "enter the number of columns:5\n",
            "* * * * * \n",
            "*       * \n",
            "*       * \n",
            "*       * \n",
            "*       * \n",
            "* * * * * \n"
          ]
        }
      ]
    },
    {
      "cell_type": "code",
      "source": [
        "# solid diamond\n",
        "\n",
        "r=int(input(\"enter the number of rows:\"))\n",
        "k1=r-1\n",
        "k2=0\n",
        "for i in range(1,r):\n",
        "  print(' '*k1,\"* \"*i,end='')\n",
        "  k1=k1-1\n",
        "  print()\n",
        "for i in range (r,0,-1):\n",
        "  print(\" \"*k2,\"* \"*i,end='')\n",
        "  k2=k2+1\n",
        "  print()\n"
      ],
      "metadata": {
        "colab": {
          "base_uri": "https://localhost:8080/"
        },
        "id": "ZSvb0l8vyNq7",
        "outputId": "2396d471-f632-4c0c-ad6e-033f8a6ac011"
      },
      "execution_count": null,
      "outputs": [
        {
          "output_type": "stream",
          "name": "stdout",
          "text": [
            "enter the number of rows:5\n",
            "     * \n",
            "    * * \n",
            "   * * * \n",
            "  * * * * \n",
            " * * * * * \n",
            "  * * * * \n",
            "   * * * \n",
            "    * * \n",
            "     * \n"
          ]
        }
      ]
    },
    {
      "cell_type": "code",
      "source": [
        "# hollow diamond inside a rectangle\n",
        "\n",
        "r=int(input(\"enter the number of rows:\"))\n",
        "for i in range(r,0,-1):\n",
        "  print(\"*\"*i,end='')\n",
        "  print(\" \"*(r-i)*2,end='')\n",
        "  print(\"*\"*i)\n",
        "for i in range (1,r+1):\n",
        "  print(\"*\"*i,end='')\n",
        "  print(\" \"*(r-i)*2,end='')\n",
        "  print(\"*\"*i)\n"
      ],
      "metadata": {
        "colab": {
          "base_uri": "https://localhost:8080/"
        },
        "id": "313t6xw0zyeN",
        "outputId": "e7372716-7f2a-4dc8-84aa-b830cf63d1d9"
      },
      "execution_count": null,
      "outputs": [
        {
          "output_type": "stream",
          "name": "stdout",
          "text": [
            "enter the number of rows:6\n",
            "************\n",
            "*****  *****\n",
            "****    ****\n",
            "***      ***\n",
            "**        **\n",
            "*          *\n",
            "*          *\n",
            "**        **\n",
            "***      ***\n",
            "****    ****\n",
            "*****  *****\n",
            "************\n"
          ]
        }
      ]
    },
    {
      "cell_type": "code",
      "source": [
        "# into mark\n",
        "\n",
        "n=int(input(\"enter a number:\"))\n",
        "for i in range(n):\n",
        "  for j in range(n):\n",
        "    if i==j or i+j==n-1:\n",
        "      print(\"* \",end='')\n",
        "    else:\n",
        "      print(\" \",end='')\n",
        "  print()"
      ],
      "metadata": {
        "colab": {
          "base_uri": "https://localhost:8080/"
        },
        "id": "wG39h3x-1Ve6",
        "outputId": "af37922e-2a94-4ccc-d17d-f7abb97f4c62"
      },
      "execution_count": null,
      "outputs": [
        {
          "output_type": "stream",
          "name": "stdout",
          "text": [
            "enter a number:7\n",
            "*      * \n",
            " *    *  \n",
            "  *  *   \n",
            "   *    \n",
            "  *  *   \n",
            " *    *  \n",
            "*      * \n"
          ]
        }
      ]
    },
    {
      "cell_type": "code",
      "source": [
        "r=int(input(\"enter the number of rows:\"))\n",
        "k=0\n",
        "z=r\n",
        "for i in range(1,r+1):\n",
        "  print(' '*k,'* '*z,end=' ')\n",
        "  k=k+1\n",
        "  z=z-1\n",
        "  print()\n",
        "m=r-1\n",
        "n=1\n",
        "for i in range(1,r+1):\n",
        "  print(' '*m,'* '*n,end='')\n",
        "  m=m-1\n",
        "  n=n+1\n",
        "  print()"
      ],
      "metadata": {
        "colab": {
          "base_uri": "https://localhost:8080/"
        },
        "id": "ROzFXhNr5nqC",
        "outputId": "5e3fb25b-3045-4ae6-c5ac-5060709142ee"
      },
      "execution_count": null,
      "outputs": [
        {
          "output_type": "stream",
          "name": "stdout",
          "text": [
            "enter the number of rows:6\n",
            " * * * * * *  \n",
            "  * * * * *  \n",
            "   * * * *  \n",
            "    * * *  \n",
            "     * *  \n",
            "      *  \n",
            "      * \n",
            "     * * \n",
            "    * * * \n",
            "   * * * * \n",
            "  * * * * * \n",
            " * * * * * * \n"
          ]
        }
      ]
    }
  ]
}